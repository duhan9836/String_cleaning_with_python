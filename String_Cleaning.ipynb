{
 "cells": [
  {
   "cell_type": "markdown",
   "metadata": {},
   "source": [
    "I'll need to clean up medical patient records, which are currently stored in a large string."
   ]
  },
  {
   "cell_type": "code",
   "execution_count": 1,
   "metadata": {},
   "outputs": [],
   "source": [
    "medical_data = \\\n",
    "\"\"\"Marina Allison   ,27   ,   31.1 , \n",
    "#7010.0   ;Markus Valdez   ,   30, \n",
    "22.4,   #4050.0 ;Connie Ballard ,43 \n",
    ",   25.3 , #12060.0 ;Darnell Weber   \n",
    ",   35   , 20.6   , #7500.0;\n",
    "Sylvie Charles   ,22, 22.1 \n",
    ",#3022.0   ;   Vinay Padilla,24,   \n",
    "26.9 ,#4620.0 ;Meredith Santiago, 51   , \n",
    "29.3 ,#16330.0;   Andre Mccarty, \n",
    "19,22.7 , #2900.0 ; \n",
    "Lorena Hodson ,65, 33.1 , #19370.0; \n",
    "Isaac Vu ,34, 24.8,   #7045.0\"\"\""
   ]
  },
  {
   "cell_type": "markdown",
   "metadata": {},
   "source": [
    "1) Replace the '#' sign with '$'"
   ]
  },
  {
   "cell_type": "code",
   "execution_count": 2,
   "metadata": {},
   "outputs": [],
   "source": [
    "medical_data_clean = medical_data.replace('#','$')"
   ]
  },
  {
   "cell_type": "code",
   "execution_count": 4,
   "metadata": {},
   "outputs": [],
   "source": [
    "#print(medical_data_clean)"
   ]
  },
  {
   "cell_type": "markdown",
   "metadata": {},
   "source": [
    "2) Seperate each record, restore the records into a list."
   ]
  },
  {
   "cell_type": "code",
   "execution_count": 5,
   "metadata": {},
   "outputs": [],
   "source": [
    "medical_data_records = medical_data_clean.split(';')"
   ]
  },
  {
   "cell_type": "markdown",
   "metadata": {},
   "source": [
    "3) Further split each record into a list "
   ]
  },
  {
   "cell_type": "code",
   "execution_count": 9,
   "metadata": {},
   "outputs": [],
   "source": [
    "medical_data_records = [record.split(',') for record in medical_data_records]"
   ]
  },
  {
   "cell_type": "markdown",
   "metadata": {},
   "source": [
    "4) Strip the whitespaces around each data"
   ]
  },
  {
   "cell_type": "code",
   "execution_count": 12,
   "metadata": {},
   "outputs": [],
   "source": [
    "medical_data_records = [[record[i].strip() for i in range(4)] for record in medical_data_records]"
   ]
  },
  {
   "cell_type": "code",
   "execution_count": 13,
   "metadata": {},
   "outputs": [
    {
     "data": {
      "text/plain": [
       "[['Marina Allison', '27', '31.1', '$7010.0'],\n",
       " ['Markus Valdez', '30', '22.4', '$4050.0'],\n",
       " ['Connie Ballard', '43', '25.3', '$12060.0'],\n",
       " ['Darnell Weber', '35', '20.6', '$7500.0'],\n",
       " ['Sylvie Charles', '22', '22.1', '$3022.0'],\n",
       " ['Vinay Padilla', '24', '26.9', '$4620.0'],\n",
       " ['Meredith Santiago', '51', '29.3', '$16330.0'],\n",
       " ['Andre Mccarty', '19', '22.7', '$2900.0'],\n",
       " ['Lorena Hodson', '65', '33.1', '$19370.0'],\n",
       " ['Isaac Vu', '34', '24.8', '$7045.0']]"
      ]
     },
     "execution_count": 13,
     "metadata": {},
     "output_type": "execute_result"
    }
   ],
   "source": [
    "medical_data_records"
   ]
  },
  {
   "cell_type": "markdown",
   "metadata": {},
   "source": [
    "5) Store name,age,bmi and insurance_cost in different lists"
   ]
  },
  {
   "cell_type": "code",
   "execution_count": 14,
   "metadata": {},
   "outputs": [],
   "source": [
    "variables = [[record[i] for record in medical_data_records] for i in range(4)]"
   ]
  },
  {
   "cell_type": "code",
   "execution_count": 15,
   "metadata": {},
   "outputs": [],
   "source": [
    "names,ages,bmis,insurance_costs = variables[0],variables[1],variables[2],variables[3]"
   ]
  },
  {
   "cell_type": "code",
   "execution_count": 16,
   "metadata": {},
   "outputs": [
    {
     "name": "stdout",
     "output_type": "stream",
     "text": [
      "['Marina Allison', 'Markus Valdez', 'Connie Ballard', 'Darnell Weber', 'Sylvie Charles', 'Vinay Padilla', 'Meredith Santiago', 'Andre Mccarty', 'Lorena Hodson', 'Isaac Vu'] ['27', '30', '43', '35', '22', '24', '51', '19', '65', '34']\n"
     ]
    }
   ],
   "source": [
    "print(names,ages)"
   ]
  },
  {
   "cell_type": "markdown",
   "metadata": {},
   "source": [
    "6) print each record in certain format"
   ]
  },
  {
   "cell_type": "code",
   "execution_count": 20,
   "metadata": {},
   "outputs": [],
   "source": [
    "records_format = ['{name} is {age} years old with a BMI of {bmi} and insurance cost of ${insurance_cost}.'.\n",
    "                  format(name = record[0],age=record[1],bmi = record[2],insurance_cost = record[3]) \n",
    "                  for record in medical_data_records]"
   ]
  },
  {
   "cell_type": "code",
   "execution_count": 21,
   "metadata": {},
   "outputs": [
    {
     "name": "stdout",
     "output_type": "stream",
     "text": [
      "Marina Allison is 27 years old with a BMI of 31.1 and insurance cost of $$7010.0.\n",
      "Markus Valdez is 30 years old with a BMI of 22.4 and insurance cost of $$4050.0.\n",
      "Connie Ballard is 43 years old with a BMI of 25.3 and insurance cost of $$12060.0.\n",
      "Darnell Weber is 35 years old with a BMI of 20.6 and insurance cost of $$7500.0.\n",
      "Sylvie Charles is 22 years old with a BMI of 22.1 and insurance cost of $$3022.0.\n",
      "Vinay Padilla is 24 years old with a BMI of 26.9 and insurance cost of $$4620.0.\n",
      "Meredith Santiago is 51 years old with a BMI of 29.3 and insurance cost of $$16330.0.\n",
      "Andre Mccarty is 19 years old with a BMI of 22.7 and insurance cost of $$2900.0.\n",
      "Lorena Hodson is 65 years old with a BMI of 33.1 and insurance cost of $$19370.0.\n",
      "Isaac Vu is 34 years old with a BMI of 24.8 and insurance cost of $$7045.0.\n"
     ]
    }
   ],
   "source": [
    "print('\\n'.join(records_format))"
   ]
  },
  {
   "cell_type": "code",
   "execution_count": null,
   "metadata": {},
   "outputs": [],
   "source": []
  }
 ],
 "metadata": {
  "kernelspec": {
   "display_name": "Python 3",
   "language": "python",
   "name": "python3"
  },
  "language_info": {
   "codemirror_mode": {
    "name": "ipython",
    "version": 3
   },
   "file_extension": ".py",
   "mimetype": "text/x-python",
   "name": "python",
   "nbconvert_exporter": "python",
   "pygments_lexer": "ipython3",
   "version": "3.8.5"
  }
 },
 "nbformat": 4,
 "nbformat_minor": 4
}
